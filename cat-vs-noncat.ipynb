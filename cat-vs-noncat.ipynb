{
 "cells": [
  {
   "cell_type": "code",
   "execution_count": 5,
   "id": "37d74023-5942-4e00-9ff8-8f45e58db0b2",
   "metadata": {
    "ExecuteTime": {
     "end_time": "2024-01-21T13:01:26.659756278Z",
     "start_time": "2024-01-21T13:01:26.643467718Z"
    }
   },
   "outputs": [
    {
     "name": "stdout",
     "output_type": "stream",
     "text": [
      "here we start our logistic regression project \n",
      "\n",
      "Problem Statement: You are given a dataset (\"data.h5\") containing: - a training set of m_train images labeled as cat (y=1) or non-cat (y=0) - a test set of m_test images labeled as cat or non-cat - each image is of shape (num_px, num_px, 3) where 3 is for the 3 channels (RGB). Thus, each image is square (height = num_px) and (width = num_px). You will build a simple image-recognition algorithm that can correctly classify pictures as cat or non-cat. \n",
      "\n",
      "loading the dataset. we run a method instead of including a module named load_dataset that is required in the imports in the course module.\n",
      "we loaded the following data: \n",
      "\n",
      "(209, 64, 64, 3)\n"
     ]
    }
   ],
   "source": [
    "import numpy as np\n",
    "import matplotlib.pyplot as plt\n",
    "import h5py\n",
    "import scipy\n",
    "import scipy.io\n",
    "from PIL import Image\n",
    "from scipy import ndimage\n",
    "\n",
    "print('here we start our logistic regression project \\n')\n",
    "print('Problem Statement: You are given a dataset (\"data.h5\") containing: - a training set of m_train images labeled as cat (y=1) or non-cat (y=0) - a test set of m_test images labeled as cat or non-cat - each image is of shape (num_px, num_px, 3) where 3 is for the 3 channels (RGB). Thus, each image is square (height = num_px) and (width = num_px). You will build a simple image-recognition algorithm that can correctly classify pictures as cat or non-cat. \\n')\n",
    "\n",
    "def load_dataset():\n",
    "  print('loading the dataset. we run a method instead of including a module named load_dataset that is required in the imports in the course module.')\n",
    "  # file_data = scipy.io.loadmat('dataset.mat')\n",
    "  train_dataset = h5py.File('datasets/train_catvnoncat.h5', \"r\")\n",
    "  train_set_x_orig = np.array(train_dataset[\"train_set_x\"][:]) # your train set features\n",
    "  train_set_y_orig = np.array(train_dataset[\"train_set_y\"][:]) # your train set labels\n",
    "\n",
    "  test_dataset = h5py.File('datasets/test_catvnoncat.h5', \"r\")\n",
    "  test_set_x_orig = np.array(test_dataset[\"test_set_x\"][:]) # your test set features\n",
    "  test_set_y_orig = np.array(test_dataset[\"test_set_y\"][:]) # your test set labels\n",
    "\n",
    "  classes = np.array(test_dataset[\"list_classes\"][:]) # the list of classes\n",
    "\n",
    "  train_set_y_orig = train_set_y_orig.reshape((1, train_set_y_orig.shape[0]))\n",
    "  test_set_y_orig = test_set_y_orig.reshape((1, test_set_y_orig.shape[0]))\n",
    "\n",
    "  return train_set_x_orig, train_set_y_orig, test_set_x_orig, test_set_y_orig, classes\n",
    "\n",
    "train_set_x_orig, train_set_y, test_set_x_orig, test_set_y, classes = load_dataset()\n",
    "\n",
    "print('we loaded the following data: \\n')\n",
    "print(train_set_x_orig.shape)\n"
   ]
  },
  {
   "cell_type": "code",
   "execution_count": null,
   "id": "63135734-210d-4834-9e21-ef9473bc0cef",
   "metadata": {},
   "outputs": [],
   "source": []
  }
 ],
 "metadata": {
  "kernelspec": {
   "display_name": "Python 3 (ipykernel)",
   "language": "python",
   "name": "python3"
  },
  "language_info": {
   "codemirror_mode": {
    "name": "ipython",
    "version": 3
   },
   "file_extension": ".py",
   "mimetype": "text/x-python",
   "name": "python",
   "nbconvert_exporter": "python",
   "pygments_lexer": "ipython3",
   "version": "3.12.0"
  }
 },
 "nbformat": 4,
 "nbformat_minor": 5
}
