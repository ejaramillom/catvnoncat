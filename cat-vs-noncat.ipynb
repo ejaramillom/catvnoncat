{
 "cells": [
  {
   "cell_type": "code",
   "execution_count": 21,
   "id": "37d74023-5942-4e00-9ff8-8f45e58db0b2",
   "metadata": {
    "ExecuteTime": {
     "end_time": "2024-01-20T16:30:27.851807902Z",
     "start_time": "2024-01-20T16:30:27.603584099Z"
    }
   },
   "outputs": [
    {
     "name": "stdout",
     "output_type": "stream",
     "text": [
      "here we start our logistic regression project \n",
      "\n",
      "Problem Statement: You are given a dataset (\"data.h5\") containing: - a training set of m_train images labeled as cat (y=1) or non-cat (y=0) - a test set of m_test images labeled as cat or non-cat - each image is of shape (num_px, num_px, 3) where 3 is for the 3 channels (RGB). Thus, each image is square (height = num_px) and (width = num_px). You will build a simple image-recognition algorithm that can correctly classify pictures as cat or non-cat. \n",
      "\n",
      "loading the dataset. we run a method instead of including a module named load_dataset that is required in the imports in the course module.\n"
     ]
    },
    {
     "ename": "OSError",
     "evalue": "Unable to synchronously open file (file signature not found)",
     "output_type": "error",
     "traceback": [
      "\u001B[0;31m---------------------------------------------------------------------------\u001B[0m",
      "\u001B[0;31mOSError\u001B[0m                                   Traceback (most recent call last)",
      "Cell \u001B[0;32mIn[21], line 30\u001B[0m\n\u001B[1;32m     26\u001B[0m   test_set_y_orig \u001B[38;5;241m=\u001B[39m test_set_y_orig\u001B[38;5;241m.\u001B[39mreshape((\u001B[38;5;241m1\u001B[39m, test_set_y_orig\u001B[38;5;241m.\u001B[39mshape[\u001B[38;5;241m0\u001B[39m]))\n\u001B[1;32m     28\u001B[0m   \u001B[38;5;28;01mreturn\u001B[39;00m train_set_x_orig, train_set_y_orig, test_set_x_orig, test_set_y_orig, classes\n\u001B[0;32m---> 30\u001B[0m train_set_x_orig, train_set_y, test_set_x_orig, test_set_y, classes \u001B[38;5;241m=\u001B[39m \u001B[43mload_dataset\u001B[49m\u001B[43m(\u001B[49m\u001B[43m)\u001B[49m\n\u001B[1;32m     32\u001B[0m \u001B[38;5;28mprint\u001B[39m(\u001B[38;5;124m'\u001B[39m\u001B[38;5;124mwe loaded the following data: \u001B[39m\u001B[38;5;130;01m\\n\u001B[39;00m\u001B[38;5;124m'\u001B[39m)\n\u001B[1;32m     33\u001B[0m \u001B[38;5;28mprint\u001B[39m(train_set_x_orig\u001B[38;5;241m.\u001B[39mshape)\n",
      "Cell \u001B[0;32mIn[21], line 15\u001B[0m, in \u001B[0;36mload_dataset\u001B[0;34m()\u001B[0m\n\u001B[1;32m     13\u001B[0m \u001B[38;5;28mprint\u001B[39m(\u001B[38;5;124m'\u001B[39m\u001B[38;5;124mloading the dataset. we run a method instead of including a module named load_dataset that is required in the imports in the course module.\u001B[39m\u001B[38;5;124m'\u001B[39m)\n\u001B[1;32m     14\u001B[0m \u001B[38;5;66;03m# file_data = scipy.io.loadmat('dataset.mat')\u001B[39;00m\n\u001B[0;32m---> 15\u001B[0m train_dataset \u001B[38;5;241m=\u001B[39m \u001B[43mh5py\u001B[49m\u001B[38;5;241;43m.\u001B[39;49m\u001B[43mFile\u001B[49m\u001B[43m(\u001B[49m\u001B[38;5;124;43m'\u001B[39;49m\u001B[38;5;124;43mtrain_catvnoncat.h5\u001B[39;49m\u001B[38;5;124;43m'\u001B[39;49m\u001B[43m,\u001B[49m\u001B[43m \u001B[49m\u001B[38;5;124;43m\"\u001B[39;49m\u001B[38;5;124;43mr\u001B[39;49m\u001B[38;5;124;43m\"\u001B[39;49m\u001B[43m)\u001B[49m\n\u001B[1;32m     16\u001B[0m train_set_x_orig \u001B[38;5;241m=\u001B[39m np\u001B[38;5;241m.\u001B[39marray(train_dataset[\u001B[38;5;124m\"\u001B[39m\u001B[38;5;124mtrain_set_x\u001B[39m\u001B[38;5;124m\"\u001B[39m][:]) \u001B[38;5;66;03m# your train set features\u001B[39;00m\n\u001B[1;32m     17\u001B[0m train_set_y_orig \u001B[38;5;241m=\u001B[39m np\u001B[38;5;241m.\u001B[39marray(train_dataset[\u001B[38;5;124m\"\u001B[39m\u001B[38;5;124mtrain_set_y\u001B[39m\u001B[38;5;124m\"\u001B[39m][:]) \u001B[38;5;66;03m# your train set labels\u001B[39;00m\n",
      "File \u001B[0;32m~/.local/lib/python3.11/site-packages/h5py/_hl/files.py:562\u001B[0m, in \u001B[0;36mFile.__init__\u001B[0;34m(self, name, mode, driver, libver, userblock_size, swmr, rdcc_nslots, rdcc_nbytes, rdcc_w0, track_order, fs_strategy, fs_persist, fs_threshold, fs_page_size, page_buf_size, min_meta_keep, min_raw_keep, locking, alignment_threshold, alignment_interval, meta_block_size, **kwds)\u001B[0m\n\u001B[1;32m    553\u001B[0m     fapl \u001B[38;5;241m=\u001B[39m make_fapl(driver, libver, rdcc_nslots, rdcc_nbytes, rdcc_w0,\n\u001B[1;32m    554\u001B[0m                      locking, page_buf_size, min_meta_keep, min_raw_keep,\n\u001B[1;32m    555\u001B[0m                      alignment_threshold\u001B[38;5;241m=\u001B[39malignment_threshold,\n\u001B[1;32m    556\u001B[0m                      alignment_interval\u001B[38;5;241m=\u001B[39malignment_interval,\n\u001B[1;32m    557\u001B[0m                      meta_block_size\u001B[38;5;241m=\u001B[39mmeta_block_size,\n\u001B[1;32m    558\u001B[0m                      \u001B[38;5;241m*\u001B[39m\u001B[38;5;241m*\u001B[39mkwds)\n\u001B[1;32m    559\u001B[0m     fcpl \u001B[38;5;241m=\u001B[39m make_fcpl(track_order\u001B[38;5;241m=\u001B[39mtrack_order, fs_strategy\u001B[38;5;241m=\u001B[39mfs_strategy,\n\u001B[1;32m    560\u001B[0m                      fs_persist\u001B[38;5;241m=\u001B[39mfs_persist, fs_threshold\u001B[38;5;241m=\u001B[39mfs_threshold,\n\u001B[1;32m    561\u001B[0m                      fs_page_size\u001B[38;5;241m=\u001B[39mfs_page_size)\n\u001B[0;32m--> 562\u001B[0m     fid \u001B[38;5;241m=\u001B[39m \u001B[43mmake_fid\u001B[49m\u001B[43m(\u001B[49m\u001B[43mname\u001B[49m\u001B[43m,\u001B[49m\u001B[43m \u001B[49m\u001B[43mmode\u001B[49m\u001B[43m,\u001B[49m\u001B[43m \u001B[49m\u001B[43muserblock_size\u001B[49m\u001B[43m,\u001B[49m\u001B[43m \u001B[49m\u001B[43mfapl\u001B[49m\u001B[43m,\u001B[49m\u001B[43m \u001B[49m\u001B[43mfcpl\u001B[49m\u001B[43m,\u001B[49m\u001B[43m \u001B[49m\u001B[43mswmr\u001B[49m\u001B[38;5;241;43m=\u001B[39;49m\u001B[43mswmr\u001B[49m\u001B[43m)\u001B[49m\n\u001B[1;32m    564\u001B[0m \u001B[38;5;28;01mif\u001B[39;00m \u001B[38;5;28misinstance\u001B[39m(libver, \u001B[38;5;28mtuple\u001B[39m):\n\u001B[1;32m    565\u001B[0m     \u001B[38;5;28mself\u001B[39m\u001B[38;5;241m.\u001B[39m_libver \u001B[38;5;241m=\u001B[39m libver\n",
      "File \u001B[0;32m~/.local/lib/python3.11/site-packages/h5py/_hl/files.py:235\u001B[0m, in \u001B[0;36mmake_fid\u001B[0;34m(name, mode, userblock_size, fapl, fcpl, swmr)\u001B[0m\n\u001B[1;32m    233\u001B[0m     \u001B[38;5;28;01mif\u001B[39;00m swmr \u001B[38;5;129;01mand\u001B[39;00m swmr_support:\n\u001B[1;32m    234\u001B[0m         flags \u001B[38;5;241m|\u001B[39m\u001B[38;5;241m=\u001B[39m h5f\u001B[38;5;241m.\u001B[39mACC_SWMR_READ\n\u001B[0;32m--> 235\u001B[0m     fid \u001B[38;5;241m=\u001B[39m \u001B[43mh5f\u001B[49m\u001B[38;5;241;43m.\u001B[39;49m\u001B[43mopen\u001B[49m\u001B[43m(\u001B[49m\u001B[43mname\u001B[49m\u001B[43m,\u001B[49m\u001B[43m \u001B[49m\u001B[43mflags\u001B[49m\u001B[43m,\u001B[49m\u001B[43m \u001B[49m\u001B[43mfapl\u001B[49m\u001B[38;5;241;43m=\u001B[39;49m\u001B[43mfapl\u001B[49m\u001B[43m)\u001B[49m\n\u001B[1;32m    236\u001B[0m \u001B[38;5;28;01melif\u001B[39;00m mode \u001B[38;5;241m==\u001B[39m \u001B[38;5;124m'\u001B[39m\u001B[38;5;124mr+\u001B[39m\u001B[38;5;124m'\u001B[39m:\n\u001B[1;32m    237\u001B[0m     fid \u001B[38;5;241m=\u001B[39m h5f\u001B[38;5;241m.\u001B[39mopen(name, h5f\u001B[38;5;241m.\u001B[39mACC_RDWR, fapl\u001B[38;5;241m=\u001B[39mfapl)\n",
      "File \u001B[0;32mh5py/_objects.pyx:54\u001B[0m, in \u001B[0;36mh5py._objects.with_phil.wrapper\u001B[0;34m()\u001B[0m\n",
      "File \u001B[0;32mh5py/_objects.pyx:55\u001B[0m, in \u001B[0;36mh5py._objects.with_phil.wrapper\u001B[0;34m()\u001B[0m\n",
      "File \u001B[0;32mh5py/h5f.pyx:102\u001B[0m, in \u001B[0;36mh5py.h5f.open\u001B[0;34m()\u001B[0m\n",
      "\u001B[0;31mOSError\u001B[0m: Unable to synchronously open file (file signature not found)"
     ]
    }
   ],
   "source": [
    "import numpy as np\n",
    "import matplotlib.pyplot as plt\n",
    "import h5py\n",
    "import scipy\n",
    "import scipy.io\n",
    "from PIL import Image\n",
    "from scipy import ndimage\n",
    "\n",
    "print('here we start our logistic regression project \\n')\n",
    "print('Problem Statement: You are given a dataset (\"data.h5\") containing: - a training set of m_train images labeled as cat (y=1) or non-cat (y=0) - a test set of m_test images labeled as cat or non-cat - each image is of shape (num_px, num_px, 3) where 3 is for the 3 channels (RGB). Thus, each image is square (height = num_px) and (width = num_px). You will build a simple image-recognition algorithm that can correctly classify pictures as cat or non-cat. \\n')\n",
    "\n",
    "def load_dataset():\n",
    "  print('loading the dataset. we run a method instead of including a module named load_dataset that is required in the imports in the course module.')\n",
    "  # file_data = scipy.io.loadmat('dataset.mat')\n",
    "  train_dataset = h5py.File('train_catvnoncat.h5', \"r\")\n",
    "  train_set_x_orig = np.array(train_dataset[\"train_set_x\"][:]) # your train set features\n",
    "  train_set_y_orig = np.array(train_dataset[\"train_set_y\"][:]) # your train set labels\n",
    "\n",
    "  test_dataset = h5py.File('datasets/test_catvnoncat.h5', \"r\")\n",
    "  test_set_x_orig = np.array(test_dataset[\"test_set_x\"][:]) # your test set features\n",
    "  test_set_y_orig = np.array(test_dataset[\"test_set_y\"][:]) # your test set labels\n",
    "\n",
    "  classes = np.array(test_dataset[\"list_classes\"][:]) # the list of classes\n",
    "\n",
    "  train_set_y_orig = train_set_y_orig.reshape((1, train_set_y_orig.shape[0]))\n",
    "  test_set_y_orig = test_set_y_orig.reshape((1, test_set_y_orig.shape[0]))\n",
    "\n",
    "  return train_set_x_orig, train_set_y_orig, test_set_x_orig, test_set_y_orig, classes\n",
    "\n",
    "train_set_x_orig, train_set_y, test_set_x_orig, test_set_y, classes = load_dataset()\n",
    "\n",
    "print('we loaded the following data: \\n')\n",
    "print(train_set_x_orig.shape)\n"
   ]
  },
  {
   "cell_type": "code",
   "execution_count": null,
   "id": "63135734-210d-4834-9e21-ef9473bc0cef",
   "metadata": {},
   "outputs": [],
   "source": []
  }
 ],
 "metadata": {
  "kernelspec": {
   "display_name": "Python 3 (ipykernel)",
   "language": "python",
   "name": "python3"
  },
  "language_info": {
   "codemirror_mode": {
    "name": "ipython",
    "version": 3
   },
   "file_extension": ".py",
   "mimetype": "text/x-python",
   "name": "python",
   "nbconvert_exporter": "python",
   "pygments_lexer": "ipython3",
   "version": "3.12.0"
  }
 },
 "nbformat": 4,
 "nbformat_minor": 5
}
